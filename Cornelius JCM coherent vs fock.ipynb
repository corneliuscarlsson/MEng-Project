{
 "cells": [
  {
   "cell_type": "code",
   "execution_count": 1,
   "metadata": {},
   "outputs": [],
   "source": [
    "\"\"\" Code taken from:\n",
    "https://click.endnote.com/viewer?doi=10.1016%2Fj.cpc.2018.02.004&token=WzI1MTkzMTMsIjEwLjEwMTYvai5jcGMuMjAxOC4wMi4wMDQiXQ.Me0dEpnjbzi1YczwpCuoLJWfP9A\n",
    "\"\"\"\n",
    "\n",
    "## Import packages\n",
    "from qutip import *\n",
    "import numpy as np\n",
    "import matplotlib.pyplot as plt\n",
    "import matplotlib.patheffects as pe\n",
    "from matplotlib.ticker import (MultipleLocator, AutoMinorLocator)\n",
    "import math\n",
    "%matplotlib inline\n",
    "from matplotlib import rc\n",
    "rc('font',**{'family':'sans-serif','sans-serif':['Helvetica']})\n",
    "font_size = 14\n"
   ]
  },
  {
   "cell_type": "code",
   "execution_count": null,
   "metadata": {},
   "outputs": [],
   "source": [
    "## Dimensional operators\n",
    "cav_dim = 50 # types of photons there can exist (thermal or participaitn gin excitation)\n",
    "atm_dim = 2 # energy levels in atom, 2 for TLS\n",
    "I_cav = qeye(cav_dim) # identity matrix matching dimension of radiation field\n",
    "I_atom = qeye(atm_dim) # identity matrix matching dimension of spin system\n",
    "\n",
    "## Atomic spin system operators\n",
    "sigmap = tensor(sigmap(), I_cav)\n",
    "sigmam = tensor(sigmam(), I_cav)\n",
    "sigmaz = tensor(sigmaz(), I_cav)\n",
    "\n",
    "## Photon operators\n",
    "adag = tensor(I_atom, create(cav_dim)) # order of arguments is important and is consistant with the spin operators                \n",
    "a = tensor(I_atom, destroy(cav_dim))\n",
    "\n",
    "## Physical constants\n",
    "w = 2 * np.pi * 1.45e3 # cavity frequency with vacuum field energy set to zero (zero-point energy) (MHz)\n",
    "g = 1.5 #2 * np.pi * 1.1 # test spin-photon couling strength ~ np.sqrt(tls_num)*g, experimetnally it's 1.1 though. \n",
    "\n",
    "## Initial quantum states\n",
    "psi_atm = basis(2, 1) # atom initially stat in ground state\n",
    "psi_phot_fock = fock(cav_dim, 1) # exactly 16 photons in the cavity out of a possible 40\n",
    "psi_phot_fock2 = fock(cav_dim, 4)\n",
    "psi_phot_fock3 = fock(cav_dim, 20)\n",
    "\n",
    "psi_phot_coher = coherent(cav_dim, np.sqrt(1)) # exactly 16 photons in the cavity out of a possible 40\n",
    "psi_phot_coher2 = coherent(cav_dim, np.sqrt(4))\n",
    "psi_phot_coher3 = coherent(cav_dim, np.sqrt(20))\n",
    "\n",
    "\n",
    "\n",
    "psi0_fock = tensor(psi_atm, psi_phot_fock)\n",
    "psi0_fock2 = tensor(psi_atm, psi_phot_fock2)\n",
    "psi0_fock3 = tensor(psi_atm, psi_phot_fock3)\n",
    "\n",
    "psi0_coher = tensor(psi_atm, psi_phot_coher)\n",
    "psi0_coher2 = tensor(psi_atm, psi_phot_coher2)\n",
    "psi0_coher3 = tensor(psi_atm, psi_phot_coher3)\n",
    "\n",
    "\n",
    "\n",
    "## Hamiltonian\n",
    "H = g*(sigmap*a + sigmam*adag)\n",
    "\n",
    "## Collapse operators\n",
    "c_ops = []\n",
    "\n",
    "Kc = 0.0\n",
    "Ks = 0.0\n",
    "gamma = 0.\n",
    "\n",
    "c_ops.append(np.sqrt(Kc) * a)\n",
    "c_ops.append(np.sqrt(Ks) * sigmaz)\n",
    "c_ops.append(np.sqrt(gamma) * sigmam)\n",
    "\n",
    "## simulation duration and master equation solver\n",
    "time = 40\n",
    "steps = 2000\n",
    "tlist = np.linspace(0, time, steps)\n",
    "result_fock = mesolve(H, psi0_fock, tlist, c_ops, [adag*a, sigmaz, sigmap*sigmam, adag*sigmam], options=Options(nsteps=10000))\n",
    "result_fock2 = mesolve(H, psi0_fock2, tlist, c_ops, [adag*a, sigmaz, sigmap*sigmam, adag*sigmam], options=Options(nsteps=10000))\n",
    "result_fock3 = mesolve(H, psi0_fock3, tlist, c_ops, [adag*a, sigmaz, sigmap*sigmam, adag*sigmam], options=Options(nsteps=10000))\n",
    "\n",
    "\n",
    "result_coher = mesolve(H, psi0_coher, tlist, c_ops, [adag*a, sigmaz, sigmap*sigmam, adag*sigmam], options=Options(nsteps=10000))\n",
    "result_coher2 = mesolve(H, psi0_coher2, tlist, c_ops, [adag*a, sigmaz, sigmap*sigmam, adag*sigmam], options=Options(nsteps=10000))\n",
    "result_coher3 = mesolve(H, psi0_coher3, tlist, c_ops, [adag*a, sigmaz, sigmap*sigmam, adag*sigmam], options=Options(nsteps=10000))\n",
    "\n"
   ]
  },
  {
   "cell_type": "code",
   "execution_count": null,
   "metadata": {},
   "outputs": [],
   "source": [
    "## Visualization\n",
    "\n",
    "fig, ax = plt.subplots(figsize=(5,4))\n",
    "plt.figure(1)\n",
    "plt.plot(tlist, result_fock.expect[0], color='r', linestyle='-', linewidth=0.5, alpha=0.2, zorder=0, label='Fock')\n",
    "plt.plot(tlist, result_coher.expect[0], color='magenta', linestyle='-', path_effects=[pe.Stroke(linewidth=2, foreground='w'), pe.Normal()], linewidth=1.5, zorder=0, label='Coherent')\n",
    "plt.ylim([-0.07, 1.07])\n",
    "plt.ylabel(r'$\\langle\\ a^\\dag a \\ \\rangle$', fontsize = 16)\n",
    "plt.xlabel('Time (μs)', labelpad = 10, fontsize = 16)\n",
    "plt.xticks(fontsize = 14)\n",
    "plt.yticks(fontsize = 14)\n",
    "ax.xaxis.set_major_locator(MultipleLocator(5))\n",
    "ax.yaxis.set_minor_locator(MultipleLocator(0.1))\n",
    "ax.tick_params(which='minor', length=3)\n",
    "plt.legend(fancybox=False, edgecolor='w', fontsize=13, loc=\"lower right\", ncol=2)\n",
    "plt.tight_layout()\n",
    "plt.savefig('coherent vs fock 1.png', format = 'png', dpi = 900) \n",
    "\n",
    "fig, ax = plt.subplots(figsize=(5,4))\n",
    "plt.figure(2)\n",
    "plt.plot(tlist, result_fock2.expect[0], color='r', linestyle='-', linewidth=0.5, alpha=0.2, zorder=0, label='Fock')\n",
    "plt.plot(tlist, result_coher2.expect[0], color='magenta', linestyle='-', path_effects=[pe.Stroke(linewidth=2, foreground='w'), pe.Normal()], linewidth=1.5, label='Coherent')\n",
    "plt.ylim([2.97, 4.07])\n",
    "plt.ylabel(r'$\\langle\\ a^\\dag a \\ \\rangle$', fontsize = 16)\n",
    "plt.xlabel('Time (μs)', labelpad = 10, fontsize = 16)\n",
    "plt.xticks(fontsize = 14)\n",
    "plt.yticks(fontsize = 14)\n",
    "ax.xaxis.set_major_locator(MultipleLocator(5))\n",
    "ax.yaxis.set_minor_locator(MultipleLocator(0.1))\n",
    "ax.tick_params(which='minor', length=3)\n",
    "plt.legend(fancybox=False, edgecolor='w', fontsize=13, loc=\"lower right\", ncol=2)\n",
    "plt.tight_layout()\n",
    "plt.savefig('coherent vs fock 2.png', format = 'png', dpi = 900) \n",
    "\n",
    "fig, ax = plt.subplots(figsize=(5.1,4))\n",
    "plt.figure(3)\n",
    "plt.plot(tlist, result_fock3.expect[0], color='r', linestyle='-', linewidth=0.5, alpha=0.2, zorder=0, label='Fock')\n",
    "plt.plot(tlist, result_coher3.expect[0], color='magenta', linestyle='-', path_effects=[pe.Stroke(linewidth=2, foreground='w'), pe.Normal()], linewidth=1.5, label='Coherent')\n",
    "#plt.ylim([8.97, 10.07])\n",
    "plt.ylabel(r'$\\langle\\ a^\\dag a \\ \\rangle$', fontsize = 16)\n",
    "plt.xlabel('Time (μs)', labelpad = 10, fontsize = 16)\n",
    "plt.xticks(fontsize = 14)\n",
    "plt.yticks(fontsize = 14)\n",
    "ax.xaxis.set_major_locator(MultipleLocator(5))\n",
    "ax.yaxis.set_minor_locator(MultipleLocator(0.1))\n",
    "ax.tick_params(which='minor', length=3)\n",
    "plt.legend(fancybox=False, edgecolor='w', fontsize=13, loc=\"lower right\", ncol=2)\n",
    "plt.tight_layout()\n",
    "plt.savefig('coherent vs fock 3.png', format = 'png', dpi = 900) \n",
    "\n",
    "\n"
   ]
  },
  {
   "cell_type": "code",
   "execution_count": null,
   "metadata": {},
   "outputs": [],
   "source": [
    "N = 50\n",
    "rho_coherent1 = coherent_dm(10, np.sqrt(3))\n",
    "rho_coherent2 = coherent_dm(10, np.sqrt(3))\n",
    "rho_coherent3 = coherent_dm(11, np.sqrt(3))\n",
    "rho_thermal1 = thermal_dm(N, 10)\n",
    "rho_thermal2 = thermal_dm(N, 20)\n",
    "rho_thermal3 = thermal_dm(N, 30)\n",
    "rho_fock1 = fock_dm(N, 10)\n",
    "rho_fock2 = fock_dm(N, 20)\n",
    "rho_fock3 = fock_dm(N, 30)\n",
    "fig, axes = plt.subplots(1, 3, figsize=(11.5,3))\n",
    "axes[0].bar(np.arange(0, 10), rho_coherent1.diag(), color='cornflowerblue', linewidth=0.8, edgecolor='blue', alpha=1)\n",
    "axes[0].bar(np.arange(0, 10), rho_coherent2.diag(), color='mediumpurple', linewidth=0.6, edgecolor='indigo', alpha=0.8)\n",
    "axes[0].bar(np.arange(0, 11), rho_coherent3.diag(), color='tomato', linewidth=0.4, edgecolor='red', alpha=0.7)\n",
    "axes[0].set_title(\"Coherent state\", fontsize=14)\n",
    "axes[0].set_xlim([-.5, N+0.5])\n",
    "axes[0].set_ylabel('Occupational Probability, \\n $P_N$', labelpad = 15, fontsize=14)\n",
    "axes[0].tick_params(axis='both', which='major', labelsize=12)\n",
    "axes[0].set_xticks(np.arange(0, N+1, 10))\n",
    "axes[1].bar(np.arange(0, N), rho_thermal1.diag(), color='cornflowerblue', linewidth=0.8, edgecolor='blue', alpha=1)\n",
    "axes[1].bar(np.arange(0, N), rho_thermal2.diag(), color='mediumpurple', linewidth=0.6, edgecolor='indigo', alpha=0.8)\n",
    "axes[1].bar(np.arange(0, N), rho_thermal3.diag(), color='tomato', linewidth=0.4, edgecolor='red', alpha=0.7)\n",
    "axes[1].set_title(\"Thermal state\", fontsize=14)\n",
    "axes[1].set_xlim([-.5, N+0.5])\n",
    "axes[1].set_xlabel('Photon number, $N$', labelpad = 10, fontsize=14)\n",
    "axes[1].set_xticks(np.arange(0, N+1, 10))\n",
    "axes[1].tick_params(axis='both', which='major', labelsize=12)\n",
    "axes[2].bar(np.arange(0, N), rho_fock1.diag(), color='cornflowerblue', linewidth=0.8, edgecolor='blue', alpha=1)\n",
    "axes[2].bar(np.arange(0, N), rho_fock2.diag(), color='mediumpurple', linewidth=0.6, edgecolor='indigo', alpha=0.8)\n",
    "axes[2].bar(np.arange(0, N), rho_fock3.diag(), color='tomato', linewidth=0.4, edgecolor='red', alpha=0.7)\n",
    "axes[2].set_title(\"Fock state\", fontsize=14)\n",
    "axes[2].set_xlim([-.5, N+0.5])\n",
    "axes[2].set_xticks(np.arange(0, N+1, 10))\n",
    "axes[2].tick_params(axis='both', which='major', labelsize=12)\n",
    "\n",
    "colors = {r'$\\langle N \\rangle = 10$':'cornflowerblue', r'$\\langle N \\rangle = 20$':'mediumpurple', r'$\\langle N \\rangle = 30$':'tomato'}         \n",
    "labels = list(colors.keys())\n",
    "handles = [plt.Rectangle((0,0),1,1, color=colors[label]) for label in labels]\n",
    "axes[1].legend(handles, labels, frameon=False, loc='upper right', fontsize=11)\n",
    "\n",
    "\n",
    "plt.tight_layout()\n",
    "#plt.savefig('light.png', format = 'png', dpi = 900) \n",
    "\n",
    "plt.show()\n",
    "\n",
    "\n"
   ]
  },
  {
   "cell_type": "code",
   "execution_count": null,
   "metadata": {},
   "outputs": [],
   "source": [
    "coherent(10, np.sqrt(0))"
   ]
  },
  {
   "cell_type": "code",
   "execution_count": null,
   "metadata": {},
   "outputs": [],
   "source": [
    "coherent(10, np.sqrt(1))"
   ]
  },
  {
   "cell_type": "code",
   "execution_count": null,
   "metadata": {},
   "outputs": [],
   "source": [
    "coherent(10, np.sqrt(2))"
   ]
  },
  {
   "cell_type": "code",
   "execution_count": null,
   "metadata": {},
   "outputs": [],
   "source": [
    "coherent(10, np.sqrt(3))"
   ]
  },
  {
   "cell_type": "code",
   "execution_count": null,
   "metadata": {},
   "outputs": [],
   "source": [
    "destroy(40)*coherent(40, np.sqrt(3))"
   ]
  },
  {
   "cell_type": "code",
   "execution_count": null,
   "metadata": {},
   "outputs": [],
   "source": [
    "coherent(40, np.sqrt(1))"
   ]
  },
  {
   "cell_type": "code",
   "execution_count": null,
   "metadata": {},
   "outputs": [],
   "source": [
    "coherent(4, np.sqrt(2))"
   ]
  },
  {
   "cell_type": "code",
   "execution_count": null,
   "metadata": {},
   "outputs": [],
   "source": [
    "coherent(4, np.sqrt(3))"
   ]
  },
  {
   "cell_type": "code",
   "execution_count": 9,
   "metadata": {},
   "outputs": [],
   "source": [
    "r = ket2dm(np.sqrt(0.8)*basis(2,1) + np.sqrt(0.2)*basis(2,0))"
   ]
  },
  {
   "cell_type": "code",
   "execution_count": 10,
   "metadata": {},
   "outputs": [
    {
     "data": {
      "text/latex": [
       "Quantum object: dims = [[2], [2]], shape = (2, 2), type = oper, isherm = True\\begin{equation*}\\left(\\begin{array}{*{11}c}0.200 & 0.0\\\\0.0 & 0.800\\\\\\end{array}\\right)\\end{equation*}"
      ],
      "text/plain": [
       "Quantum object: dims = [[2], [2]], shape = (2, 2), type = oper, isherm = True\n",
       "Qobj data =\n",
       "[[0.2 0. ]\n",
       " [0.  0.8]]"
      ]
     },
     "execution_count": 10,
     "metadata": {},
     "output_type": "execute_result"
    }
   ],
   "source": [
    "0.5*r + 0.5*sigmaz()*r*sigmaz()"
   ]
  },
  {
   "cell_type": "code",
   "execution_count": null,
   "metadata": {},
   "outputs": [],
   "source": [
    "psi_atm = np.sqrt(0.2)*basis(2, 0) + np.sqrt(0.8)*basis(2, 1)\n",
    "rho_atm = ket2dm(psi_atm)\n",
    "psi_phot = np.sqrt(0.2)*fock(2, 0) + np.sqrt(0.8)*fock(2, 1)\n",
    "rho_phot = ket2dm(psi_phot)\n",
    "rho0 = tensor(rho_atm, rho_phot)\n",
    "rho0"
   ]
  },
  {
   "cell_type": "code",
   "execution_count": null,
   "metadata": {},
   "outputs": [],
   "source": [
    "basis(2,0) * basis(2,1).dag()"
   ]
  },
  {
   "cell_type": "code",
   "execution_count": null,
   "metadata": {},
   "outputs": [],
   "source": [
    "sigmap()"
   ]
  },
  {
   "cell_type": "code",
   "execution_count": null,
   "metadata": {},
   "outputs": [],
   "source": [
    "np.sqrt(0.6)*basis(2,1) + np.sqrt(0.4)*basis(2,0)"
   ]
  },
  {
   "cell_type": "code",
   "execution_count": null,
   "metadata": {},
   "outputs": [],
   "source": [
    "## http://qutip.org/docs/4.1/guide/guide-visualization.html"
   ]
  }
 ],
 "metadata": {
  "kernelspec": {
   "display_name": "Python 3",
   "language": "python",
   "name": "python3"
  },
  "language_info": {
   "codemirror_mode": {
    "name": "ipython",
    "version": 3
   },
   "file_extension": ".py",
   "mimetype": "text/x-python",
   "name": "python",
   "nbconvert_exporter": "python",
   "pygments_lexer": "ipython3",
   "version": "3.7.6"
  }
 },
 "nbformat": 4,
 "nbformat_minor": 4
}

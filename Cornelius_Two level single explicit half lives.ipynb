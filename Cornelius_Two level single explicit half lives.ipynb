{
 "cells": [
  {
   "cell_type": "code",
   "execution_count": 1,
   "metadata": {},
   "outputs": [],
   "source": [
    "## Import packages\n",
    "from qutip import *\n",
    "import numpy as np\n",
    "import matplotlib.pyplot as plt\n",
    "from matplotlib.ticker import (MultipleLocator, AutoMinorLocator)\n",
    "from mpl_toolkits.mplot3d import Axes3D\n",
    "from matplotlib.collections import PolyCollection\n",
    "from mpl_toolkits.mplot3d.art3d import Poly3DCollection\n",
    "from scipy.signal import argrelextrema\n",
    "from scipy.optimize import curve_fit\n",
    "\n",
    "from scipy import fftpack\n",
    "from scipy.signal import find_peaks\n",
    "import matplotlib.patheffects as pe\n",
    "\n",
    "from matplotlib.animation import FuncAnimation\n",
    "import math\n",
    "%matplotlib inline\n",
    "from matplotlib import rc\n",
    "rc('font',**{'family':'sans-serif','sans-serif':['Helvetica']})\n",
    "font_size = 14\n",
    "\n"
   ]
  },
  {
   "cell_type": "code",
   "execution_count": 2,
   "metadata": {},
   "outputs": [],
   "source": [
    "## Dimensional operators\n",
    "cav_dim = 2 # total number of possible photons\n",
    "atm_dim = 2 # energy levels in atom, 2 for TLS\n",
    "I_cav = qeye(cav_dim) # identity matrix matching dimension of radiation field (2, one for vacuum state, one for excited states)\n",
    "I_atom = qeye(atm_dim) # identity matrix matching dimension of spin system\n",
    "\n",
    "## Total atomic operators\n",
    "sigmap_tot = tensor(sigmap(), I_cav)\n",
    "sigmam_tot = tensor(sigmam(), I_cav)\n",
    "sigmaz_tot = tensor(sigmaz(), I_cav)\n",
    "\n",
    "## Photon operators\n",
    "adag = create(cav_dim)\n",
    "a = destroy(cav_dim)\n",
    "adag_tot = tensor(I_atom, adag) # order of arguments is important and is consistant with the spin operators #add .unit()               \n",
    "a_tot = tensor(I_atom, a)\n",
    "\n",
    "## Physical constants\n",
    "N = 7e14 # number of two-level systems\n",
    "wa = 2 * np.pi * 1.45e3 # atom transition frequency between levels X & Z (MHz) allows is to work in micro seconds\n",
    "wc = 2 * np.pi * 1.45e3 # cavity frequency with vacuum field energy set to zero (zero-point energy) (MHz)\n",
    "gs = 2 * np.pi * 0.042e-6 # collective spin-photon couling strength ~ np.sqrt(tls_num)*g, experimentally it's 1.1 though.\n",
    "g = 3 #2 * np.pi * 1.1 # test spin-photon couling strength ~ np.sqrt(tls_num)*gs, experimetnally it's 1.1 though.\n",
    "\n",
    "Kc = 0.07 # 2 * np.pi * 0.18 # cavity mode decay rate (MHz) # derivation can be found in Agarwal pg.31\n",
    "Ks = 0.23 #2 * np.pi * 0.11 # spin dephasing rate (MHz)\n",
    "gamma = 0.0 # 2 * np.pi * 0.0177 # spin-lattice relaxation rate between X and Z\n",
    "\n",
    "## Initial quantum states\n",
    "psi_atm = np.sqrt(0)*basis(2,0) + np.sqrt(1)*basis(2,1) # atom begins in ground state\n",
    "rho_atm = ket2dm(psi_atm)\n",
    "psi_phot = np.sqrt(1)*fock(cav_dim, 1)\n",
    "rho_phot = ket2dm(psi_phot)\n",
    "psi0 = tensor(psi_atm, psi_phot)\n",
    "rho = tensor(rho_atm, rho_phot)\n",
    "\n",
    "## Simulation initialization\n",
    "time = 30\n",
    "steps = 2000\n",
    "tlist = np.linspace(0, time, steps) # duration and steps to be used in evolution\n",
    "step_size = tlist[1] - tlist[0]\n"
   ]
  },
  {
   "cell_type": "code",
   "execution_count": 3,
   "metadata": {},
   "outputs": [],
   "source": [
    "\"\"\" Explicit Method \"\"\"\n",
    "\n",
    "## Observable initialization\n",
    "n_phot_list = [((adag * a) * rho.ptrace(1)).tr()] # number of photons in light field\n",
    "\n",
    "# Tuneable parameters\n",
    "use_rwa = True # set = True to use Rotating Wave Approximation\n",
    "n_th = 0 # avg number of thermal bath excitation (nhf=kT)\n",
    "\n",
    "## function computing the Lindblad master equation\n",
    "def lindblad(p):\n",
    "    \n",
    "    ## Assembling the Hamiltonian\n",
    "    HA = 0.5 * wa * sigmaz_tot # atomic part\n",
    "    HF = wc * adag_tot * a_tot # field part\n",
    "\n",
    "    if use_rwa:\n",
    "        HI = sigmap_tot*a_tot + sigmam_tot*adag_tot # interaction part in the RWA\n",
    "    else:\n",
    "        HI = hbar * ((sigmap_tot + sigmam_tot)*(a_tot + adag_tot)) # interaction part not using RWA\n",
    "\n",
    "    H = HA + HF + g*HI\n",
    "    \n",
    "    ## Liouvillian\n",
    "    closed_system = -1j * commutator(H,p)\n",
    "    cavity_decay = Kc/2 * (adag_tot*a_tot*p - 2*a_tot*p*adag_tot + p*adag_tot*a_tot)\n",
    "    spin_relax = gamma/2 * (sigmap_tot*sigmam_tot*p - 2*sigmam_tot*p*sigmap_tot + p*sigmap_tot*sigmam_tot)\n",
    "    spin_dephase = Ks/2 * (sigmaz_tot.dag()*sigmaz_tot*rho - 2*sigmaz_tot*rho*sigmaz_tot.dag() + rho*sigmaz_tot.dag()*sigmaz_tot)\n",
    "    \n",
    "    return closed_system - cavity_decay - spin_relax - spin_dephase\n",
    "\n",
    "\n",
    "\n",
    "## RK4 method realized using a for loop\n",
    "for step_index in range(steps-1):\n",
    "    \n",
    "    ## RK4 method\n",
    "    k1 = step_size * lindblad(rho)\n",
    "    k2 = step_size * lindblad(rho + 0.5*k1)\n",
    "    k3 = step_size * lindblad(rho + 0.5*k2)\n",
    "    k4 = step_size * lindblad(rho + k3)\n",
    "    rho += 1/6*k1 + 1/3*(k2+k3) + 1/6*k4      # calculation of density matrix at n+1 step\n",
    "    \n",
    "#     #RK2 method\n",
    "#     rho_pred = rho + 3/4 * lindblad(rho, N) * step_size # Predictor\n",
    "#     rho_dash = rho_pred - 5/12 * lindblad(rho, N) * step_size\n",
    "#     rho = rho_dash + 2/3 * lindblad(rho, N) * step_size # Corrector\n",
    "    \n",
    "    \n",
    "    ## calculating observables at n+1 step using density matrix found above and adding them to list \n",
    "    n_phot_new = (((adag*a) * rho.ptrace(1)).tr().real)\n",
    "    n_phot_list = np.append(n_phot_list, n_phot_new)\n",
    "    \n",
    "    "
   ]
  },
  {
   "cell_type": "code",
   "execution_count": 4,
   "metadata": {},
   "outputs": [],
   "source": [
    "def locpeaks(ydata):\n",
    "\n",
    "    # for local maxima\n",
    "    peak_indx = argrelextrema(ydata, np.greater)[0] # zero is necessary to flatten tuple\n",
    "    peak_pos = peak_indx /steps * time \n",
    "    peak_data = ydata[argrelextrema(ydata, np.greater)[0]]\n",
    "    \n",
    "    # checking that if a maxima occurs at t=0, it is included\n",
    "    if np.argmax(ydata) == 0:\n",
    "        peak_times = np.insert(peak_pos, 0, 0)\n",
    "        peak_vals = np.insert(peak_data, 0, ydata[0])    \n",
    "    else: \n",
    "        peak_times = peak_pos\n",
    "        peak_vals = peak_data\n",
    "        \n",
    "    \n",
    "    # for local minima\n",
    "    trough_indx = argrelextrema(ydata, np.less)[0] # zero is necessary to flatten tuple\n",
    "    trough_pos = trough_indx /steps * time \n",
    "    trough_data = ydata[argrelextrema(ydata, np.less)[0]]\n",
    "        \n",
    "    # checking that if a minima occurs at t=0, it is included\n",
    "    if np.argmin(ydata) == 0:\n",
    "        trough_times = np.insert(trough_pos, 0, 0)\n",
    "        trough_vals = np.insert(trough_data, 0, ydata[0]) \n",
    "    else: \n",
    "        trough_times = trough_pos\n",
    "        trough_vals = trough_data\n",
    "    \n",
    "    return [peak_times, peak_vals], [trough_times, trough_vals]\n",
    "\n",
    "phot_peaks, phot_troughs = locpeaks(n_phot_list)\n"
   ]
  },
  {
   "cell_type": "code",
   "execution_count": 5,
   "metadata": {},
   "outputs": [
    {
     "name": "stdout",
     "output_type": "stream",
     "text": [
      "[0.74742509 0.16442716 0.23257327]\n"
     ]
    }
   ],
   "source": [
    "def curvefit(points):\n",
    "\n",
    "    # fitting functions\n",
    "    def exp(x, a, b, c):\n",
    "        return a*np.exp(-b*x) + c # exponential decay\n",
    "\n",
    "    def gaus(x, a, b, c):\n",
    "        return a*np.exp(-(x-b)**2 /c) # gaussian envelope\n",
    "\n",
    "    # optimization of fit parameter using curve_fit\n",
    "    popt1, pcov1 = curve_fit(exp, points[0], points[1], maxfev = 1500) #points[0] and points[1] are x and y data respectively\n",
    "    popt2, pcov2 = curve_fit(gaus, points[0], points[1], maxfev = 5000000)\n",
    "\n",
    "    print(popt1)\n",
    "    \n",
    "    # generating fit data for plotting\n",
    "    fit1 = [] # ydata for exponential fit function\n",
    "    fit2 = [] # ydata for gaussian fit function\n",
    "    for i in tlist:\n",
    "        fit1.append(exp(i, popt1[0], popt1[1], popt1[2])) # calculate y values of exponential fit function at each time step and append to ydata list\n",
    "        fit2.append(gaus(i, popt2[0], popt2[1], popt2[2])) # calculate y values of gaussian fit function at each time step and append to ydata list\n",
    "\n",
    "    return fit1, fit2\n",
    "\n",
    "phot_peaks_fit1, phot_peaks_fit2 = curvefit(phot_peaks)\n",
    "\n"
   ]
  },
  {
   "cell_type": "code",
   "execution_count": 6,
   "metadata": {
    "scrolled": true
   },
   "outputs": [
    {
     "data": {
      "image/png": "[encoded data removed]",
      "text/plain": [
       "<Figure size 432x288 with 1 Axes>"
      ]
     },
     "metadata": {
      "needs_background": "light"
     },
     "output_type": "display_data"
    }
   ],
   "source": [
    "## Visualization\n",
    "\n",
    "fig, ax = plt.subplots(figsize=(6,4))\n",
    "plt.figure(1)\n",
    "plt.plot(tlist, n_phot_list, color='r', linestyle='-', linewidth=2.5, zorder=0, label='explicit sol.')\n",
    "plt.scatter(phot_peaks[0], phot_peaks[1], color='k', marker='+', s=90, linewidth=1.5, zorder=1)\n",
    "plt.plot(tlist, phot_peaks_fit1, color='k', linestyle='-', linewidth='1.5', zorder=2, label= \"exp. fit: a=0.99629071 \\n             b=0.22577594 \\n             c=0.00277341\")\n",
    "plt.ylim([-0.07, 1.07])\n",
    "plt.title('Cavity photon number', fontsize = 16)\n",
    "plt.ylabel(r'$\\langle\\ a^\\dag a \\ \\rangle$', fontsize = 16)\n",
    "plt.xlabel('Time (μs)', labelpad = 10, fontsize = 16)\n",
    "plt.xticks(fontsize = 14)\n",
    "plt.yticks(fontsize = 14)\n",
    "ax.xaxis.set_major_locator(MultipleLocator(2.5))\n",
    "ax.yaxis.set_minor_locator(MultipleLocator(0.1))\n",
    "ax.tick_params(which='minor', length=3)\n",
    "#plt.legend(fancybox=False, edgecolor='w', fontsize=13)\n",
    "plt.tight_layout()\n",
    "#plt.savefig('adag a.png', format = 'png', dpi = 900) \n",
    "\n",
    "\n"
   ]
  },
  {
   "cell_type": "code",
   "execution_count": 7,
   "metadata": {},
   "outputs": [
    {
     "data": {
      "text/plain": [
       "([array([ 0.   ,  1.035,  2.085,  3.135,  4.17 ,  5.22 ,  6.27 ,  7.305,\n",
       "          8.355,  9.405, 10.44 , 11.49 , 12.525, 13.575, 14.61 , 15.645,\n",
       "         16.68 , 17.715, 18.75 , 19.77 , 20.775, 21.78 ]),\n",
       "  array([1.        , 0.86048444, 0.75149544, 0.66514324, 0.59618214,\n",
       "         0.54086045, 0.49564037, 0.4582687 , 0.42706863, 0.40050633,\n",
       "         0.37765765, 0.35767096, 0.33997539, 0.32408683, 0.30968784,\n",
       "         0.29648218, 0.28427253, 0.27290205, 0.26224619, 0.25221951,\n",
       "         0.24274555, 0.23378186])],\n",
       " [array([ 0.525,  1.56 ,  2.61 ,  3.66 ,  4.71 ,  5.745,  6.795,  7.845,\n",
       "          8.895,  9.945, 10.995, 12.045, 13.095, 14.145, 15.195, 16.245,\n",
       "         17.31 , 18.36 , 19.425, 20.505, 21.6  ]),\n",
       "  array([0.05508111, 0.14327389, 0.20605592, 0.250247  , 0.28041284,\n",
       "         0.29999323, 0.31157349, 0.31734644, 0.31880905, 0.31709895,\n",
       "         0.31307928, 0.30740366, 0.30056591, 0.29293814, 0.28479982,\n",
       "         0.27635998, 0.26777133, 0.25913417, 0.25053556, 0.24202469,\n",
       "         0.23363423])])"
      ]
     },
     "execution_count": 7,
     "metadata": {},
     "output_type": "execute_result"
    }
   ],
   "source": [
    "locpeaks(n_phot_list)"
   ]
  }
 ],
 "metadata": {
  "kernelspec": {
   "display_name": "Python 3",
   "language": "python",
   "name": "python3"
  },
  "language_info": {
   "codemirror_mode": {
    "name": "ipython",
    "version": 3
   },
   "file_extension": ".py",
   "mimetype": "text/x-python",
   "name": "python",
   "nbconvert_exporter": "python",
   "pygments_lexer": "ipython3",
   "version": "3.7.6"
  }
 },
 "nbformat": 4,
 "nbformat_minor": 4
}

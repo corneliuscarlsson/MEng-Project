{
 "cells": [
  {
   "cell_type": "code",
   "execution_count": 11,
   "metadata": {},
   "outputs": [],
   "source": [
    "from qutip import *\n",
    "import matplotlib.pyplot as plt\n",
    "import numpy as np\n",
    "from pylab import *\n",
    "from scipy import arange, conj, prod \n",
    "import scipy.sparse as sp"
   ]
  },
  {
   "cell_type": "code",
   "execution_count": 83,
   "metadata": {},
   "outputs": [
    {
     "name": "stdout",
     "output_type": "stream",
     "text": [
      "cy_ode_psi_func_td\n"
     ]
    },
    {
     "data": {
      "image/png": "[encoded data removed]",
      "text/plain": [
       "<Figure size 432x288 with 1 Axes>"
      ]
     },
     "metadata": {
      "needs_background": "light"
     },
     "output_type": "display_data"
    }
   ],
   "source": [
    "N = 60\n",
    "\n",
    "#reminder: basis(5,0) is the higehst state of 5, basis(5,4) is the lowest state of 5. \n",
    "\n",
    "sigma11 = tensor(qeye(N), basis(5,0) * basis(5,0).dag()) # deletes state, unless acting on level 5 (highest)\n",
    "sigma22 = tensor(qeye(N), basis(5,1) * basis(5,1).dag()) # deletes state, unless acting on level 4\n",
    "sigma33 = tensor(qeye(N), basis(5,2) * basis(5,2).dag()) # deletes state, unless acting on level 3\n",
    "sigma44 = tensor(qeye(N), basis(5,3) * basis(5,3).dag()) # deletes state, unless acting on level 2\n",
    "sigma55 = tensor(qeye(N), basis(5,4) * basis(5,4).dag()) # deletes state, unless acting on leve 1 (lowest)\n",
    "\n",
    "sigma12=tensor(qeye(N),basis(5,0)*basis(5,1).dag()) # raising from 4 to 5\n",
    "sigma13=tensor(qeye(N),basis(5,0)*basis(5,2).dag()) # raising form 3 to 5\n",
    "sigma15=tensor(qeye(N),basis(5,0)*basis(5,4).dag()) # raising from 2 to 5\n",
    "sigma34=tensor(qeye(N),basis(5,2)*basis(5,3).dag()) # raising form 2 to 3\n",
    "I = tensor(qeye(N), qeye(4)) # cavity has 60 dimensions, atom has 4 possible transitions\n",
    "\n",
    "#The detuning parameters \n",
    "delta1 = 0.0\n",
    "delta2 = 0.0\n",
    "delta3 = 0.0\n",
    "delta4 = 0.0\n",
    "\n",
    "# cavity operators\n",
    "a = tensor(destroy(N), qeye(5)) # cavity has 60 dimensions, atom has 5 dimensions\n",
    "\n",
    "# coupling constants\n",
    "lambd1 = 1.0 \n",
    "lambd2 = 1.0 \n",
    "lambd3 = 1.0 \n",
    "lambd4 = 1.0\n",
    "\n",
    "def hamiltonian_t(t, args):\n",
    "    H0  = args[0]\n",
    "    H12 = args[1]\n",
    "    H21 = args[2]\n",
    "    H13 = args[3]\n",
    "    H31 = args[4]\n",
    "    H15 = args[5]\n",
    "    H51 = args[6]\n",
    "    H34 = args[7]\n",
    "    H43 = args[8]\n",
    "    H=H0+(H12+H21)+(H13+H31)+(H34+H43)+(H15+H51)\n",
    "    return H\n",
    "\n",
    "H0 = delta1*sigma22 + delta2*sigma33 + (delta3+delta2)*sigma44 + delta4*sigma55 #zero for zero detuning\n",
    "H12= lambd1 * a * sigma12\n",
    "H21= lambd1 * a.dag() * sigma12.dag()\n",
    "H13= lambd2 * a * sigma13\n",
    "H31= lambd2 * a.dag() * sigma13.dag()\n",
    "H15= lambd3 * a * sigma15\n",
    "H51= lambd3 * a.dag() * sigma15.dag()\n",
    "H34= lambd4 * a * sigma34\n",
    "H43= lambd4 * a.dag() * sigma34.dag()\n",
    "H=H0+(H12+H21)+(H13+H31)+(H34+H43)+(H15+H51)\n",
    "       \n",
    "c_ops = []\n",
    "psi0 = tensor(coherent(N, sqrt(10)), (basis(5,0)).unit()) # 60 fock states, eigenvalue of sqrt(10), atom begins in ground state\n",
    "\n",
    "tlist = linspace(0, 100, 1500)\n",
    "res = mesolve(hamiltonian_t, psi0, tlist, c_ops,[a.dag()*a],args)\n",
    "adaga = res.expect[0]\n",
    "\n",
    "\n",
    "# visualization\n",
    "plt.figure(1)\n",
    "plt.plot(tlist, adaga)\n",
    "plt.title('Cavity photon number')\n",
    "plt.xlabel('Time')\n",
    "plt.ylabel('⟨ ${a^\\dag}a$ ⟩')\n",
    "#plt.legend(fontsize = label_size)\n",
    "\n",
    "plt.show()\n",
    "\n",
    "\n",
    "\n",
    "\n"
   ]
  },
  {
   "cell_type": "code",
   "execution_count": 74,
   "metadata": {},
   "outputs": [
    {
     "name": "stdout",
     "output_type": "stream",
     "text": [
      "Quantum object: dims = [[60, 5], [60, 5]], shape = (300, 300), type = oper, isherm = True\n",
      "Qobj data =\n",
      "[[0. 0. 0. ... 0. 0. 0.]\n",
      " [0. 0. 0. ... 0. 0. 0.]\n",
      " [0. 0. 0. ... 0. 0. 0.]\n",
      " ...\n",
      " [0. 0. 0. ... 0. 0. 0.]\n",
      " [0. 0. 0. ... 0. 0. 0.]\n",
      " [0. 0. 0. ... 0. 0. 0.]]\n"
     ]
    }
   ],
   "source": [
    "H0 = delta1*sigma22 + delta2*sigma33 + (delta3+delta2)*sigma44 + delta4*sigma55\n",
    "H12= lambd1 * a * sigma12\n",
    "H21= lambd1 * a.dag() * sigma12.dag()\n",
    "H13= lambd2 * a * sigma13\n",
    "H31= lambd2 * a.dag() * sigma13.dag()\n",
    "H15= lambd3 * a * sigma15\n",
    "H51= lambd3 * a.dag() * sigma15.dag()\n",
    "H34= lambd4 * a * sigma34\n",
    "H43= lambd4 * a.dag() * sigma34.dag()\n",
    "H=H0+(H12+H21)+(H13+H31)+(H34+H43)+(H15+H51)"
   ]
  },
  {
   "cell_type": "code",
   "execution_count": 88,
   "metadata": {},
   "outputs": [
    {
     "data": {
      "text/latex": [
       "Quantum object: dims = [[5], [1]], shape = (5, 1), type = ket\\begin{equation*}\\left(\\begin{array}{*{11}c}1.0\\\\0.0\\\\0.0\\\\0.0\\\\0.0\\\\\\end{array}\\right)\\end{equation*}"
      ],
      "text/plain": [
       "Quantum object: dims = [[5], [1]], shape = (5, 1), type = ket\n",
       "Qobj data =\n",
       "[[1.]\n",
       " [0.]\n",
       " [0.]\n",
       " [0.]\n",
       " [0.]]"
      ]
     },
     "execution_count": 88,
     "metadata": {},
     "output_type": "execute_result"
    }
   ],
   "source": [
    "(basis(5,0)*basis(5,1).dag()) * basis(5,1)\n",
    "basis(5,0)\n"
   ]
  },
  {
   "cell_type": "code",
   "execution_count": 23,
   "metadata": {},
   "outputs": [
    {
     "name": "stderr",
     "output_type": "stream",
     "text": [
      "/opt/anaconda3/lib/python3.7/site-packages/ipykernel_launcher.py:62: DeprecationWarning: scipy.conj is deprecated and will be removed in SciPy 2.0.0, use numpy.conj instead\n"
     ]
    },
    {
     "name": "stdout",
     "output_type": "stream",
     "text": [
      "cy_ode_psi_func_td\n"
     ]
    }
   ],
   "source": [
    "# The atom is initially prepared in coherent state\n",
    "def CS(N, alpha, offset=0, method='operator'):\n",
    "    x = basis(N, 0)\n",
    "    a = destroy(N)\n",
    "    D = (alpha * a.dag() - conj(alpha) * a).expm() \n",
    "    return D * x\n",
    "\n",
    "\n",
    "# The atom is initially prepared in squeezed state\n",
    "def squeezed_state(N, alpha ,r, theta):\n",
    "    x = basis(N,0)\n",
    "    a=destroy(N)\n",
    "    zeta=r*exp(1j*theta)\n",
    "    D=(alpha * a.dag() - cong(alpha) * a).expm() * ((1/2)*((zeta * a.dag()**2 - conj(zeta) * a**2))).expm() \n",
    "    return D*x\n",
    "\n",
    "       \n",
    "def Mean_photon(level_n, states):\n",
    "    a= tensor(destroy(N), qeye(level_n)) \n",
    "    nc = a.dag() * a\n",
    "    NC1 = expect(nc, states)\n",
    "    return NC1\n",
    "\n",
    "\n",
    "# The second-order correlation function for N level atom \n",
    "def Second_order(level_n, states):\n",
    "    a= tensor(destroy(N), qeye(level_n)) \n",
    "    ncc= (a.dag() * a)**2\n",
    "    nc= a.dag()*a\n",
    "    NC1 = expect(nc, states)\n",
    "    NCC1 = expect(ncc, states) \n",
    "    Gt=(NCC1-NC1)/NC1**2 \n",
    "    return Gt\n",
    "       \n",
    "\n",
    "# The Mandel Q function for N level atom\n",
    "def Mandel(level_n, states):\n",
    "    a= tensor(destroy(N), qeye(level_n)) \n",
    "    ncc= a.dag()**2*a**2\n",
    "    nc = a.dag() * a\n",
    "    NC1 = expect(nc, states) \n",
    "    NCC1 = expect(ncc, states) \n",
    "    Q=(NCC1-NC1**2)/NC1 \n",
    "    return Q\n",
    "       \n",
    "def Normal_Sqx(level_n, states):\n",
    "    a= tensor(destroy(N), qeye(level_n))\n",
    "    nc = a.dag() * a\n",
    "    nf = a + a.dag()\n",
    "    aa = a**2\n",
    "    ad = a.dag()**2\n",
    "    aae= expect(aa, states)\n",
    "    ade= expect(ad, states)\n",
    "    nfe= expect(nf, states)\n",
    "    NC1 = expect(nc, states)\n",
    "    Sx = 0.25*(2*NC1+ aae+ ade+ 1- (nfe)**2)-0.25 \n",
    "    return Sx\n",
    "       \n",
    "def Normal_Sqy(level_n, states):\n",
    "    a= tensor(destroy(N), qeye(level_n)) \n",
    "    nc = a.dag() * a\n",
    "    nf = a - a.dag()\n",
    "    aa = a**2\n",
    "    ad = a.dag()**2\n",
    "    aae= expect(aa, states)\n",
    "    ade= expect(ad, states)\n",
    "    nfe= expect(nf, states)\n",
    "    NC1 = expect(nc, states)\n",
    "    Sy = 2*NC1- aae- ade + (nfe)**2 \n",
    "    return Sy\n",
    "       \n",
    "\n",
    "entropy = zeros(shape(tlist))\n",
    "entropy_cavity = zeros(shape(tlist))\n",
    "       \n",
    "def entropy_linear(rho):\n",
    "    if rho.type == 'ket' or rho.type == 'bra': \n",
    "       rho = ket2dm(rho)\n",
    "    return float(real(1.0 - (rho ** 2).tr()))\n",
    "\n",
    "for idx, rho in enumerate(res.states): \n",
    "    entropy_cavity = ptrace(rho, 0) \n",
    "    entropy[idx]= entropy_linear(entropy_cavity)\n",
    "       "
   ]
  },
  {
   "cell_type": "code",
   "execution_count": 10,
   "metadata": {},
   "outputs": [
    {
     "data": {
      "text/latex": [
       "Quantum object: dims = [[2], [2]], shape = (2, 2), type = oper, isherm = False\\begin{equation*}\\left(\\begin{array}{*{11}c}0.0 & 0.0\\\\1.0 & 0.0\\\\\\end{array}\\right)\\end{equation*}"
      ],
      "text/plain": [
       "Quantum object: dims = [[2], [2]], shape = (2, 2), type = oper, isherm = False\n",
       "Qobj data =\n",
       "[[0. 0.]\n",
       " [1. 0.]]"
      ]
     },
     "execution_count": 10,
     "metadata": {},
     "output_type": "execute_result"
    }
   ],
   "source": [
    "basis(2,0) * basis(2,0).dag()\n",
    "sigmam()"
   ]
  }
 ],
 "metadata": {
  "kernelspec": {
   "display_name": "Python 3",
   "language": "python",
   "name": "python3"
  },
  "language_info": {
   "codemirror_mode": {
    "name": "ipython",
    "version": 3
   },
   "file_extension": ".py",
   "mimetype": "text/x-python",
   "name": "python",
   "nbconvert_exporter": "python",
   "pygments_lexer": "ipython3",
   "version": "3.7.6"
  }
 },
 "nbformat": 4,
 "nbformat_minor": 4
}
